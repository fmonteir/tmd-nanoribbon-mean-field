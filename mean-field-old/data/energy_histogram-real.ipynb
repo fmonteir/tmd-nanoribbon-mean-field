{
 "cells": [
  {
   "cell_type": "code",
   "execution_count": 1,
   "metadata": {},
   "outputs": [],
   "source": [
    "import numpy as np\n",
    "import matplotlib.pyplot as plt\n",
    "import seaborn as sns\n",
    "sns.set()\n",
    "sns.set_style(\"white\")\n",
    "sns.set_palette(\"GnBu_d\")\n",
    "from matplotlib import rcParams\n",
    "rcParams['font.family'] = 'sans-serif'\n",
    "rcParams['font.sans-serif'] = ['Arial']"
   ]
  },
  {
   "cell_type": "code",
   "execution_count": 8,
   "metadata": {},
   "outputs": [
    {
     "name": "stdout",
     "output_type": "stream",
     "text": [
      "best seed:  468262125.0\n",
      "std dev / mean:  0.000261669516106\n"
     ]
    },
    {
     "data": {
      "image/png": "[encoded data removed]",
      "text/plain": [
       "<matplotlib.figure.Figure at 0x11536dda0>"
      ]
     },
     "metadata": {},
     "output_type": "display_data"
    }
   ],
   "source": [
    "U = 16\n",
    "\n",
    "W = [4]\n",
    "\n",
    "for Ny in W:\n",
    "    seeds_ann = np.loadtxt(\"MoS2-U\" + str(U) + \"NY\" + str(Ny)\\\n",
    "                           + \"BETA1real_random_ann/energies.csv\", delimiter = ',')[:, 0]\n",
    "    ens_ann = np.loadtxt(\"MoS2-U\" + str(U) + \"NY\" + str(Ny)\\\n",
    "                         + \"BETA1real_random_ann/energies.csv\", delimiter = ',')[:, 1]\n",
    "    \n",
    "    seeds_ann = np.delete(seeds_ann, np.where(ens_ann == 1e10), None)\n",
    "    ens_ann = np.delete(ens_ann, np.where(ens_ann == 1e100), None)\n",
    "    \n",
    "    plt.hist(ens_ann, bins = 200, alpha = 0.3)\n",
    "    plt.xlabel(r'$\\frac{\\Omega}{N}$')\n",
    "    plt.ylabel(r'count')\n",
    "    \n",
    "    print(\"best seed: \", seeds_ann[np.argmin(ens_ann)])\n",
    "    print(\"std dev / mean: \", np.sqrt(np.var(ens_ann) / ens_ann.size) / abs(np.mean(ens_ann)))"
   ]
  },
  {
   "cell_type": "code",
   "execution_count": 4,
   "metadata": {},
   "outputs": [
    {
     "data": {
      "text/plain": [
       "array([  4.68262125e+08,   1.12025824e+09,   1.79317037e+09,\n",
       "         1.39125818e+09,   2.01401520e+09,   7.66121050e+07,\n",
       "         7.87572230e+08,   7.15888080e+08,   4.12767627e+08,\n",
       "         1.67216915e+09,   1.20401434e+09,   4.33305200e+06,\n",
       "         1.09905713e+09,   1.13770172e+09,   1.55606397e+09,\n",
       "         5.35077330e+07,   6.64598139e+08,   5.86191909e+08,\n",
       "         8.39549989e+08,   1.67854440e+09,   1.67588908e+09,\n",
       "         5.73005875e+08,   9.59899978e+08,   9.09740038e+08,\n",
       "         4.87397491e+08,   1.62302629e+09,   1.68554025e+09,\n",
       "         1.80258266e+09,   1.17723097e+09,   1.61451417e+09,\n",
       "         2.68060928e+08,   1.57948075e+09,   6.40035920e+07,\n",
       "         1.05745469e+09,   5.36207729e+08,   1.50310865e+09,\n",
       "         3.98607182e+08,   2.09785236e+09,   1.36008318e+09,\n",
       "         1.90304076e+09,   9.75233512e+08,   8.85341924e+08,\n",
       "         2.54494731e+08,   7.59794729e+08,   1.70289694e+09,\n",
       "         1.60192127e+09,   1.92263146e+09,   7.18632744e+08,\n",
       "         4.52507881e+08,   4.00015851e+08,   1.70745936e+09,\n",
       "         1.78510368e+09,   2.07825733e+09,   1.64994536e+09,\n",
       "         1.43779980e+07,   6.89926744e+08,   9.67439602e+08,\n",
       "         1.83183604e+09,   9.99922481e+08,   1.14862783e+09,\n",
       "         8.99882252e+08,   2.13650371e+09,   9.74579300e+08,\n",
       "         1.10573504e+09,   1.18802062e+09,   5.52281714e+08,\n",
       "         1.71608623e+09,   2.81308984e+08,   6.30761090e+08,\n",
       "         8.78774344e+08,   1.75104049e+09,   4.66750251e+08,\n",
       "         8.23079462e+08,   4.81409683e+08,   1.40017213e+09,\n",
       "         7.38248922e+08,   1.99810464e+09,   8.82708898e+08,\n",
       "         5.74751449e+08,   3.64954475e+08,   2.04659639e+09,\n",
       "         1.89764253e+09,   3.58829776e+08,   1.20606037e+09,\n",
       "         6.46786096e+08,   1.59677715e+09,   1.17805372e+08,\n",
       "         9.64694128e+08,   5.74589901e+08,   1.37730285e+09,\n",
       "         2.02694863e+09,   1.08443403e+09,   7.79280807e+08,\n",
       "         5.25529884e+08,   1.31782469e+09,   1.98792382e+09,\n",
       "         2.04996989e+09,   3.14507708e+08,   1.36578214e+09,\n",
       "         1.21610471e+09])"
      ]
     },
     "execution_count": 4,
     "metadata": {},
     "output_type": "execute_result"
    }
   ],
   "source": [
    "seeds_ann[np.argsort(ens_ann)]"
   ]
  },
  {
   "cell_type": "code",
   "execution_count": 5,
   "metadata": {},
   "outputs": [
    {
     "data": {
      "text/plain": [
       "100"
      ]
     },
     "execution_count": 5,
     "metadata": {},
     "output_type": "execute_result"
    }
   ],
   "source": [
    "len(seeds_ann)"
   ]
  },
  {
   "cell_type": "code",
   "execution_count": 6,
   "metadata": {},
   "outputs": [
    {
     "data": {
      "text/plain": [
       "array([-0.73579101, -0.73569754, -0.73568341, -0.73566525, -0.7356606 ,\n",
       "       -0.73565819, -0.73561994, -0.73559976, -0.73558279, -0.73557421,\n",
       "       -0.73554959, -0.73545706, -0.73544837, -0.73538573, -0.73538168,\n",
       "       -0.73537243, -0.73536648, -0.73530459, -0.73528422, -0.7352643 ,\n",
       "       -0.73519269, -0.73516835, -0.73513007, -0.73508416, -0.73506631,\n",
       "       -0.73505508, -0.73504266, -0.73495004, -0.73490031, -0.73487475,\n",
       "       -0.73473868, -0.73473834, -0.73465384, -0.7344368 , -0.73194128,\n",
       "       -0.73192491, -0.73174711, -0.73172679, -0.73172339, -0.73170538,\n",
       "       -0.73169109, -0.73168931, -0.73168651, -0.73168386, -0.73166726,\n",
       "       -0.73160319, -0.73159365, -0.73157782, -0.73155076, -0.73154039,\n",
       "       -0.73153907, -0.73153644, -0.73153151, -0.73152812, -0.73152318,\n",
       "       -0.73151106, -0.73142148, -0.73137864, -0.73137427, -0.73136722,\n",
       "       -0.7313435 , -0.73131711, -0.73125877, -0.73122869, -0.73122833,\n",
       "       -0.73121707, -0.73121278, -0.73119723, -0.73119629, -0.73118907,\n",
       "       -0.73118388, -0.73118373, -0.73117711, -0.73117369, -0.73117156,\n",
       "       -0.73114987, -0.73114673, -0.73114124, -0.73112638, -0.73110641,\n",
       "       -0.73109682, -0.731091  , -0.73108994, -0.73108718, -0.73107456,\n",
       "       -0.73104965, -0.73103281, -0.73103   , -0.73102629, -0.73100413,\n",
       "       -0.73097078, -0.73097054, -0.73088251, -0.73085901, -0.7308558 ,\n",
       "       -0.73083965, -0.73080334, -0.73079753, -0.73076785, -0.73069298])"
      ]
     },
     "execution_count": 6,
     "metadata": {},
     "output_type": "execute_result"
    }
   ],
   "source": [
    "np.sort(ens_ann)"
   ]
  },
  {
   "cell_type": "code",
   "execution_count": 7,
   "metadata": {},
   "outputs": [
    {
     "data": {
      "text/plain": [
       "array([  1.98792382e+09,   5.25529884e+08,   4.12767627e+08,\n",
       "         1.39125818e+09,   4.68262125e+08,   1.79317037e+09,\n",
       "         2.13650371e+09,   1.90304076e+09,   1.40017213e+09,\n",
       "         7.38248922e+08,   4.66750251e+08,   1.09905713e+09,\n",
       "         2.01401520e+09,   5.52281714e+08,   1.59677715e+09,\n",
       "         1.92263146e+09,   5.74751449e+08,   7.15888080e+08,\n",
       "         1.14862783e+09,   9.99922481e+08,   1.08443403e+09,\n",
       "         1.75104049e+09,   1.21610471e+09,   1.67588908e+09,\n",
       "         1.78510368e+09,   7.18632744e+08,   6.46786096e+08,\n",
       "         1.61451417e+09,   7.87572230e+08,   1.80258266e+09,\n",
       "         6.64598139e+08,   1.31782469e+09,   1.20606037e+09,\n",
       "         1.10573504e+09,   1.89764253e+09,   9.75233512e+08,\n",
       "         5.74589901e+08,   4.87397491e+08,   1.50310865e+09,\n",
       "         1.43779980e+07,   5.35077330e+07,   6.89926744e+08,\n",
       "         1.13770172e+09,   1.12025824e+09,   8.78774344e+08,\n",
       "         1.64994536e+09,   8.99882252e+08,   1.20401434e+09,\n",
       "         8.85341924e+08,   1.18802062e+09,   5.86191909e+08,\n",
       "         1.17805372e+08,   3.64954475e+08,   3.98607182e+08,\n",
       "         2.02694863e+09,   1.36578214e+09,   1.67854440e+09,\n",
       "         5.36207729e+08,   9.64694128e+08,   1.99810464e+09,\n",
       "         1.83183604e+09,   8.82708898e+08,   1.57948075e+09,\n",
       "         2.09785236e+09,   9.67439602e+08,   1.71608623e+09,\n",
       "         5.73005875e+08,   2.07825733e+09,   2.68060928e+08,\n",
       "         9.59899978e+08,   1.62302629e+09,   4.52507881e+08,\n",
       "         8.39549989e+08,   6.40035920e+07,   3.58829776e+08,\n",
       "         1.70745936e+09,   3.14507708e+08,   1.55606397e+09,\n",
       "         4.81409683e+08,   1.70289694e+09,   4.00015851e+08,\n",
       "         9.74579300e+08,   1.60192127e+09,   7.59794729e+08,\n",
       "         1.05745469e+09,   2.54494731e+08,   6.30761090e+08,\n",
       "         1.67216915e+09,   9.09740038e+08,   2.81308984e+08,\n",
       "         1.36008318e+09,   1.37730285e+09,   2.04659639e+09,\n",
       "         8.23079462e+08,   4.33305200e+06,   7.66121050e+07,\n",
       "         7.79280807e+08,   2.04996989e+09,   1.68554025e+09,\n",
       "         1.17723097e+09])"
      ]
     },
     "execution_count": 7,
     "metadata": {},
     "output_type": "execute_result"
    }
   ],
   "source": [
    "seeds_ann"
   ]
  },
  {
   "cell_type": "code",
   "execution_count": null,
   "metadata": {},
   "outputs": [],
   "source": []
  }
 ],
 "metadata": {
  "kernelspec": {
   "display_name": "Python 3",
   "language": "python",
   "name": "python3"
  },
  "language_info": {
   "codemirror_mode": {
    "name": "ipython",
    "version": 3
   },
   "file_extension": ".py",
   "mimetype": "text/x-python",
   "name": "python",
   "nbconvert_exporter": "python",
   "pygments_lexer": "ipython3",
   "version": "3.6.4"
  }
 },
 "nbformat": 4,
 "nbformat_minor": 2
}
