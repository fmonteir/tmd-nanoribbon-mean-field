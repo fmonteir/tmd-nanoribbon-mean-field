{
 "cells": [
  {
   "cell_type": "code",
   "execution_count": 1,
   "metadata": {},
   "outputs": [],
   "source": [
    "import numpy as np\n",
    "import matplotlib.pyplot as plt\n",
    "import seaborn as sns\n",
    "sns.set()\n",
    "sns.set_style(\"white\")\n",
    "sns.set_palette(\"GnBu_d\")\n",
    "from matplotlib import rcParams\n",
    "rcParams['font.family'] = 'sans-serif'\n",
    "rcParams['font.sans-serif'] = ['Arial']"
   ]
  },
  {
   "cell_type": "code",
   "execution_count": 2,
   "metadata": {},
   "outputs": [
    {
     "name": "stdout",
     "output_type": "stream",
     "text": [
      "best seed:  1766790370.0\n",
      "std dev / mean:  0.000300756584628\n",
      "best seed:  785781541.0\n",
      "std dev / mean:  0.000143839931147\n",
      "best seed:  1968173449.0\n",
      "std dev / mean:  8.31948755035e-05\n"
     ]
    },
    {
     "data": {
      "image/png": "[encoded data removed]",
      "text/plain": [
       "<matplotlib.figure.Figure at 0x1134aee10>"
      ]
     },
     "metadata": {},
     "output_type": "display_data"
    }
   ],
   "source": [
    "U = 16\n",
    "\n",
    "W = [4]\n",
    "\n",
    "for Ny in W:\n",
    "    seeds_ann = np.loadtxt(\"MoS2-U\" + str(U) + \"NY\" + str(Ny)\\\n",
    "                           + \"BETA2real_random_ann/energies.csv\", delimiter = ',')[:, 0]\n",
    "    ens_ann = np.loadtxt(\"MoS2-U\" + str(U) + \"NY\" + str(Ny)\\\n",
    "                         + \"BETA2real_random_ann/energies.csv\", delimiter = ',')[:, 1]\n",
    "    \n",
    "    seeds_ann = np.delete(seeds_ann, np.where(ens_ann == 1e10), None)\n",
    "    ens_ann = np.delete(ens_ann, np.where(ens_ann == 1e100), None)\n",
    "    \n",
    "    plt.hist(ens_ann, bins = 40, alpha = 0.3)\n",
    "    plt.xlabel(r'$\\frac{\\Omega}{N}$')\n",
    "    plt.ylabel(r'count')\n",
    "    \n",
    "    print(\"best seed: \", seeds_ann[np.argmin(ens_ann)])\n",
    "    print(\"std dev / mean: \", np.sqrt(np.var(ens_ann) / ens_ann.size) / abs(np.mean(ens_ann)))"
   ]
  },
  {
   "cell_type": "code",
   "execution_count": 92,
   "metadata": {},
   "outputs": [
    {
     "name": "stdout",
     "output_type": "stream",
     "text": [
      "best seed:  1627486972.0\n",
      "std dev / mean:  0.000260053014182\n"
     ]
    },
    {
     "data": {
      "image/png": "[encoded data removed]",
      "text/plain": [
       "<matplotlib.figure.Figure at 0x1148665f8>"
      ]
     },
     "metadata": {},
     "output_type": "display_data"
    }
   ],
   "source": [
    "U = 16\n",
    "\n",
    "W = [6]\n",
    "\n",
    "for Ny in W:\n",
    "    seeds_ann = np.loadtxt(\"MoS2-U\" + str(U) + \"NY\" + str(Ny)\\\n",
    "                           + \"BETA2real_random_ann/energies.csv\", delimiter = ',')[:, 0]\n",
    "    ens_ann = np.loadtxt(\"MoS2-U\" + str(U) + \"NY\" + str(Ny)\\\n",
    "                         + \"BETA2real_random_ann/energies.csv\", delimiter = ',')[:, 1]\n",
    "    \n",
    "    seeds_ann = np.delete(seeds_ann, np.where(ens_ann == 1e10), None)\n",
    "    ens_ann = np.delete(ens_ann, np.where(ens_ann == 1e100), None)\n",
    "    \n",
    "    plt.hist(ens_ann, bins = 40, alpha = 0.3)\n",
    "    plt.xlabel(r'$\\frac{\\Omega}{N}$')\n",
    "    plt.ylabel(r'count')\n",
    "    \n",
    "    print(\"best seed: \", seeds_ann[np.argmin(ens_ann)])\n",
    "    print(\"std dev / mean: \", np.sqrt(np.var(ens_ann) / ens_ann.size) / abs(np.mean(ens_ann)))"
   ]
  },
  {
   "cell_type": "code",
   "execution_count": 87,
   "metadata": {},
   "outputs": [
    {
     "data": {
      "text/plain": [
       "array([  1.62748697e+09,   6.61003726e+08,   4.44008433e+08,\n",
       "         2.67713661e+08,   1.35976299e+09,   1.47196493e+09,\n",
       "         3.06583663e+08,   1.18197846e+09,   1.64411763e+09,\n",
       "         1.05247035e+09,   1.43952397e+09,   1.91157005e+09,\n",
       "         9.96746540e+07,   1.92425502e+09,   9.18831149e+08,\n",
       "         1.19344452e+09,   1.19344452e+09,   1.52385018e+09,\n",
       "         1.90743167e+09,   5.52107040e+07,   1.15977911e+09,\n",
       "         1.45021845e+09,   8.44543745e+08,   1.60329970e+09,\n",
       "         1.09162231e+09,   1.52895770e+09,   1.90112441e+09,\n",
       "         6.59984035e+08,   1.77752592e+09,   1.76679037e+09,\n",
       "         1.00376966e+09,   1.81818412e+09,   1.71242926e+09,\n",
       "         8.52248858e+08,   1.29948493e+09,   1.71432835e+09,\n",
       "         1.98753278e+08,   1.57327147e+09,   1.48867953e+09,\n",
       "         1.21118344e+09,   8.92242897e+08,   1.32343457e+09,\n",
       "         1.73085254e+09,   2.38875689e+08,   5.32408537e+08,\n",
       "         1.00655178e+09,   2.59139101e+08,   1.37344481e+09,\n",
       "         1.44181516e+09,   4.33735001e+08,   2.00200720e+09,\n",
       "         8.51026628e+08,   2.09588405e+09,   1.61004091e+09,\n",
       "         1.42941546e+09,   8.12566335e+08,   1.03173377e+09,\n",
       "         1.47889498e+09,   5.98878248e+08,   1.72591386e+09,\n",
       "         1.16810681e+09,   1.64564583e+09,   3.81459049e+08,\n",
       "         2.90755478e+08,   1.52346386e+09,   1.16192122e+09,\n",
       "         1.91001395e+09,   1.74656940e+09,   1.85070898e+09,\n",
       "         7.85781541e+08,   4.99362521e+08,   4.65317122e+08,\n",
       "         8.99163979e+08,   1.93428832e+09,   1.03220596e+09,\n",
       "         1.81349794e+09,   6.71586090e+08,   1.66386149e+09,\n",
       "         1.11545091e+09,   1.71655968e+09,   4.24195778e+08,\n",
       "         4.80260560e+08,   2.00133176e+08,   6.29965772e+08,\n",
       "         1.44499851e+09,   1.01535464e+09,   8.22373299e+08,\n",
       "         1.23837646e+09,   1.18227754e+09,   4.80623387e+08,\n",
       "         1.68403411e+09,   1.65813624e+09,   8.07458244e+08,\n",
       "         1.95254618e+09,   1.76920350e+09,   9.57871083e+08,\n",
       "         8.35330664e+08])"
      ]
     },
     "execution_count": 87,
     "metadata": {},
     "output_type": "execute_result"
    }
   ],
   "source": [
    "seeds_ann[np.argsort(ens_ann)]"
   ]
  },
  {
   "cell_type": "code",
   "execution_count": 88,
   "metadata": {},
   "outputs": [
    {
     "data": {
      "text/plain": [
       "97"
      ]
     },
     "execution_count": 88,
     "metadata": {},
     "output_type": "execute_result"
    }
   ],
   "source": [
    "len(seeds_ann)"
   ]
  },
  {
   "cell_type": "code",
   "execution_count": 89,
   "metadata": {},
   "outputs": [
    {
     "data": {
      "text/plain": [
       "array([-242.61004495, -241.4243541 , -241.41864022, -241.02614658,\n",
       "       -240.79469428, -240.23395587, -239.61290952, -239.59199384,\n",
       "       -239.58278887, -239.5542422 , -239.54500367, -239.52744407,\n",
       "       -239.45575351, -239.42307217, -239.4202299 , -239.40122845,\n",
       "       -239.40122845, -239.39260639, -239.39097528, -239.35833996,\n",
       "       -239.34563102, -239.31631745, -239.31162797, -239.23948371,\n",
       "       -239.23669231, -239.17739017, -239.17689777, -239.17066089,\n",
       "       -239.16004101, -239.14186742, -239.12628347, -239.12519625,\n",
       "       -239.12035197, -239.11685233, -239.10403895, -239.09850769,\n",
       "       -239.08098848, -239.08019416, -239.07575958, -239.07569002,\n",
       "       -239.06790595, -239.04428822, -239.04302003, -239.04206755,\n",
       "       -239.03827151, -239.03778629, -239.02014802, -239.01529058,\n",
       "       -239.01230896, -239.00664359, -238.99945948, -238.99550595,\n",
       "       -238.98743152, -238.98511356, -238.97678024, -238.97213309,\n",
       "       -238.96130208, -238.96092227, -238.95780838, -238.94879694,\n",
       "       -238.94154721, -238.92994991, -238.92983459, -238.9262705 ,\n",
       "       -238.91814683, -238.91207579, -238.89545084, -238.8947495 ,\n",
       "       -238.88644183, -238.88502765, -238.880341  , -238.87617444,\n",
       "       -238.87585924, -238.87532967, -238.86678254, -238.85861943,\n",
       "       -238.85365785, -238.84855245, -238.84314611, -238.84140546,\n",
       "       -238.82991014, -238.8286242 , -238.82722969, -238.81914694,\n",
       "       -238.80151179, -238.79093725, -238.77496381, -238.76174601,\n",
       "       -238.75026376, -238.74509418, -238.68843534, -238.67224196,\n",
       "       -238.66240068, -238.64123322, -238.61679414, -238.58327995,\n",
       "       -238.56234608])"
      ]
     },
     "execution_count": 89,
     "metadata": {},
     "output_type": "execute_result"
    }
   ],
   "source": [
    "np.sort(ens_ann)"
   ]
  },
  {
   "cell_type": "code",
   "execution_count": 84,
   "metadata": {},
   "outputs": [
    {
     "data": {
      "text/plain": [
       "array([  1.73085254e+09,   1.45021845e+09,   1.44499851e+09,\n",
       "         3.81459049e+08,   1.44181516e+09,   1.52346386e+09,\n",
       "         1.00655178e+09,   1.64564583e+09,   6.61003726e+08,\n",
       "         1.61004091e+09,   1.93428832e+09,   1.47889498e+09,\n",
       "         1.43952397e+09,   8.07458244e+08,   1.03173377e+09,\n",
       "         1.98753278e+08,   8.35330664e+08,   1.37344481e+09,\n",
       "         1.18197846e+09,   4.65317122e+08,   1.92425502e+09,\n",
       "         9.57871083e+08,   1.95254618e+09,   2.00133176e+08,\n",
       "         1.71655968e+09,   1.15977911e+09,   1.21118344e+09,\n",
       "         6.71586090e+08,   8.12566335e+08,   1.71432835e+09,\n",
       "         1.00376966e+09,   1.29948493e+09,   1.47196493e+09,\n",
       "         1.90112441e+09,   7.85781541e+08,   4.44008433e+08,\n",
       "         1.16192122e+09,   2.09588405e+09,   5.98878248e+08,\n",
       "         1.77752592e+09,   1.64411763e+09,   1.85070898e+09,\n",
       "         1.16810681e+09,   2.00200720e+09,   1.62748697e+09,\n",
       "         1.57327147e+09,   9.18831149e+08,   1.76679037e+09])"
      ]
     },
     "execution_count": 84,
     "metadata": {},
     "output_type": "execute_result"
    }
   ],
   "source": [
    "seeds_ann"
   ]
  },
  {
   "cell_type": "code",
   "execution_count": null,
   "metadata": {},
   "outputs": [],
   "source": []
  }
 ],
 "metadata": {
  "kernelspec": {
   "display_name": "Python 3",
   "language": "python",
   "name": "python3"
  },
  "language_info": {
   "codemirror_mode": {
    "name": "ipython",
    "version": 3
   },
   "file_extension": ".py",
   "mimetype": "text/x-python",
   "name": "python",
   "nbconvert_exporter": "python",
   "pygments_lexer": "ipython3",
   "version": "3.6.4"
  }
 },
 "nbformat": 4,
 "nbformat_minor": 2
}
