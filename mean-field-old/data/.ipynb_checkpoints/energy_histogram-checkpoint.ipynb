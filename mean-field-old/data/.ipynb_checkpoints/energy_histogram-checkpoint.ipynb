{
 "cells": [
  {
   "cell_type": "code",
   "execution_count": 77,
   "metadata": {},
   "outputs": [],
   "source": [
    "import numpy as np\n",
    "import matplotlib.pyplot as plt\n",
    "import seaborn as sns\n",
    "sns.set()\n",
    "sns.set_style(\"white\")\n",
    "sns.set_palette(\"GnBu_d\")\n",
    "from matplotlib import rcParams\n",
    "rcParams['font.family'] = 'sans-serif'\n",
    "rcParams['font.sans-serif'] = ['Arial']"
   ]
  },
  {
   "cell_type": "code",
   "execution_count": 78,
   "metadata": {},
   "outputs": [
    {
     "name": "stdout",
     "output_type": "stream",
     "text": [
      "best seed:  1766790370.0\n",
      "std dev / mean:  0.000300756584628\n",
      "best seed:  785781541.0\n",
      "std dev / mean:  0.000143839931147\n",
      "best seed:  1968173449.0\n",
      "std dev / mean:  8.31948755035e-05\n"
     ]
    },
    {
     "data": {
      "image/png": "[encoded data removed]",
      "text/plain": [
       "<matplotlib.figure.Figure at 0x1147a8400>"
      ]
     },
     "metadata": {},
     "output_type": "display_data"
    }
   ],
   "source": [
    "U = 20\n",
    "\n",
    "W = [16, 32, 64]\n",
    "\n",
    "for Ny in W:\n",
    "    seeds_ann = np.loadtxt(\"MoS2-U\" + str(U) + \"NY\" + str(Ny)\\\n",
    "                           + \"BETAinfty1sub_random_ann/energies.csv\", delimiter = ',')[:, 0]\n",
    "    ens_ann = np.loadtxt(\"MoS2-U\" + str(U) + \"NY\" + str(Ny)\\\n",
    "                         + \"BETAinfty1sub_random_ann/energies.csv\", delimiter = ',')[:, 1]\n",
    "    \n",
    "    seeds_ann = np.delete(seeds_ann, np.where(ens_ann == 1e10), None)\n",
    "    ens_ann = np.delete(ens_ann, np.where(ens_ann == 1e100), None)\n",
    "    \n",
    "    plt.hist(ens_ann, bins = 40, alpha = 0.3)\n",
    "    plt.xlabel(r'$\\frac{\\Omega}{N}$')\n",
    "    plt.ylabel(r'count')\n",
    "    \n",
    "    print(\"best seed: \", seeds_ann[np.argmin(ens_ann)])\n",
    "    print(\"std dev / mean: \", np.sqrt(np.var(ens_ann) / ens_ann.size) / abs(np.mean(ens_ann)))"
   ]
  },
  {
   "cell_type": "code",
   "execution_count": null,
   "metadata": {},
   "outputs": [],
   "source": [
    "U = 16\n",
    "\n",
    "W = [6]\n",
    "\n",
    "for Ny in W:\n",
    "    seeds_ann = np.loadtxt(\"MoS2-U\" + str(U) + \"NY\" + str(Ny)\\\n",
    "                           + \"BETA2real_random_ann/energies.csv\", delimiter = ',')[:, 0]\n",
    "    ens_ann = np.loadtxt(\"MoS2-U\" + str(U) + \"NY\" + str(Ny)\\\n",
    "                         + \"BETA2real_random_ann/energies.csv\", delimiter = ',')[:, 1]\n",
    "    \n",
    "    seeds_ann = np.delete(seeds_ann, np.where(ens_ann == 1e10), None)\n",
    "    ens_ann = np.delete(ens_ann, np.where(ens_ann == 1e100), None)\n",
    "    \n",
    "    plt.hist(ens_ann, bins = 40, alpha = 0.3)\n",
    "    plt.xlabel(r'$\\frac{\\Omega}{N}$')\n",
    "    plt.ylabel(r'count')\n",
    "    \n",
    "    print(\"best seed: \", seeds_ann[np.argmin(ens_ann)])\n",
    "    print(\"std dev / mean: \", np.sqrt(np.var(ens_ann) / ens_ann.size) / abs(np.mean(ens_ann)))"
   ]
  },
  {
   "cell_type": "code",
   "execution_count": 79,
   "metadata": {},
   "outputs": [
    {
     "data": {
      "text/plain": [
       "array([  1.96817345e+09,   3.06583663e+08,   1.42941546e+09,\n",
       "         1.62010036e+09,   1.77498008e+09,   8.44543745e+08,\n",
       "         2.09588405e+09,   1.26268916e+09,   1.54674105e+09,\n",
       "         1.98646873e+09,   8.13630519e+08,   1.90743167e+09,\n",
       "         1.71432835e+09,   1.45021845e+09,   1.60329970e+09,\n",
       "         1.74656940e+09,   1.29948493e+09,   8.75990820e+07,\n",
       "         8.20526328e+08,   1.03173377e+09,   6.61061057e+08,\n",
       "         1.44904948e+09,   2.59139101e+08,   1.47889498e+09,\n",
       "         1.64411763e+09,   8.96189945e+08,   8.51026628e+08,\n",
       "         1.81818412e+09,   1.18197846e+09,   1.38990542e+09,\n",
       "         1.71242926e+09,   1.16300867e+09,   1.83709931e+09,\n",
       "         1.68403411e+09,   1.93428832e+09,   1.91001395e+09,\n",
       "         7.91524809e+08,   1.48197880e+07,   1.83667441e+09,\n",
       "         1.71013869e+09,   1.80271204e+09,   7.11684000e+07,\n",
       "         1.52385018e+09,   9.75472732e+08,   1.23114201e+08,\n",
       "         7.17005642e+08,   2.00133176e+08,   1.18227754e+09,\n",
       "         1.53089472e+09,   1.61916992e+09,   1.59084021e+09,\n",
       "         5.08465464e+08,   2.13572449e+09,   1.56738035e+08,\n",
       "         1.52346386e+09,   1.66207431e+09,   1.72591386e+09,\n",
       "         9.17700545e+08,   4.65317122e+08,   5.52107040e+07,\n",
       "         2.01964412e+09,   1.23837646e+09,   1.47196493e+09,\n",
       "         3.58531959e+08,   9.57871083e+08,   6.29488700e+07,\n",
       "         1.43230522e+09,   1.81349794e+09,   1.34368752e+09,\n",
       "         1.31692922e+09,   1.28231514e+09,   1.71655968e+09,\n",
       "         9.43074790e+07,   1.34302365e+09,   9.14149983e+08,\n",
       "         1.77870742e+09,   1.15149469e+09,   1.00655178e+09,\n",
       "         1.15663499e+09,   1.30629830e+07,   6.71586090e+08,\n",
       "         9.27418316e+08,   1.77752592e+09,   1.92425502e+09,\n",
       "         1.09503029e+09,   1.76920350e+09,   4.92543609e+08,\n",
       "         1.42978338e+09,   1.45134802e+09,   1.55719842e+09,\n",
       "         1.60943350e+09,   1.65813624e+09,   4.90958472e+08,\n",
       "         1.44181516e+09,   1.11741564e+09,   3.81459049e+08,\n",
       "         6.61003726e+08,   1.90072300e+09,   1.95254618e+09,\n",
       "         9.24323950e+08,   1.37344481e+09,   6.28971664e+08,\n",
       "         1.85070898e+09,   1.03125511e+09,   4.08287000e+08,\n",
       "         1.82767406e+09,   1.15977911e+09,   1.90112441e+09,\n",
       "         7.66827426e+08,   4.99362521e+08,   1.13968560e+08,\n",
       "         1.02137413e+09,   1.48867953e+09,   1.73085254e+09,\n",
       "         6.52716211e+08,   8.07493420e+08,   3.77202134e+08,\n",
       "         1.05247035e+09,   1.92888904e+09,   8.40249652e+08,\n",
       "         1.71753738e+09,   1.49338467e+09,   9.18831149e+08,\n",
       "         1.01052828e+09,   1.45237617e+09,   8.49849941e+08,\n",
       "         1.14471099e+09,   1.88834744e+09,   7.10316657e+08,\n",
       "         1.15824832e+09,   1.11545091e+09,   3.99254763e+08,\n",
       "         8.59894270e+07,   1.44658284e+09,   1.44499851e+09,\n",
       "         2.39813093e+08,   1.17612249e+08,   1.52895770e+09,\n",
       "         1.83355256e+09,   1.96658235e+09,   1.03220596e+09,\n",
       "         2.13708464e+09,   7.85781541e+08,   2.38875689e+08,\n",
       "         5.98878248e+08,   1.21118344e+09,   1.35976299e+09,\n",
       "         1.66321662e+09,   2.04909805e+08,   1.01535464e+09,\n",
       "         2.67713661e+08,   2.90755478e+08,   5.57780209e+08,\n",
       "         7.35175682e+08,   1.97063616e+09,   1.40249614e+09,\n",
       "         1.11348396e+09,   5.76833931e+08,   1.86273250e+09,\n",
       "         1.27971904e+09,   7.93622519e+08,   7.03854153e+08,\n",
       "         8.07458244e+08,   1.43952397e+09,   1.98753278e+08,\n",
       "         1.09162231e+09,   1.30207924e+09,   8.35330664e+08,\n",
       "         1.16192122e+09,   1.12862981e+09,   1.61745341e+09,\n",
       "         2.76863190e+07,   1.84879198e+09,   1.57327147e+09,\n",
       "         4.47379899e+08,   1.61004091e+09,   4.44008433e+08,\n",
       "         1.06005883e+09,   1.64564583e+09,   1.82832180e+09,\n",
       "         1.19344452e+09,   1.66386149e+09,   1.61699274e+09,\n",
       "         2.23230224e+08,   1.35968908e+09,   4.80260560e+08,\n",
       "         1.76679037e+09,   1.84788859e+09,   8.30795047e+08,\n",
       "         1.62748697e+09,   5.32408537e+08,   1.90414079e+09,\n",
       "         2.97553817e+08,   6.64924836e+08,   5.58789273e+08,\n",
       "         8.99163979e+08,   1.33678643e+09,   4.80601643e+08,\n",
       "         1.91157005e+09,   1.00376966e+09,   8.61955050e+08,\n",
       "         8.05380355e+08,   8.52248858e+08,   4.80623387e+08,\n",
       "         6.29965772e+08,   1.16810681e+09,   1.14795637e+09,\n",
       "         1.33282110e+09,   2.00200720e+09,   1.29206334e+09,\n",
       "         1.32343457e+09,   6.59984035e+08,   4.33735001e+08,\n",
       "         8.92242897e+08,   1.25496625e+09,   4.24195778e+08,\n",
       "         8.12566335e+08,   8.22373299e+08,   6.25636608e+08,\n",
       "         1.44828339e+09,   1.44828339e+09,   9.59345294e+08,\n",
       "         8.42953311e+08])"
      ]
     },
     "execution_count": 79,
     "metadata": {},
     "output_type": "execute_result"
    }
   ],
   "source": [
    "seeds_ann[np.argsort(ens_ann)]"
   ]
  },
  {
   "cell_type": "code",
   "execution_count": 65,
   "metadata": {},
   "outputs": [
    {
     "data": {
      "text/plain": [
       "175"
      ]
     },
     "execution_count": 65,
     "metadata": {},
     "output_type": "execute_result"
    }
   ],
   "source": [
    "len(seeds_ann)"
   ]
  },
  {
   "cell_type": "code",
   "execution_count": 66,
   "metadata": {},
   "outputs": [
    {
     "data": {
      "text/plain": [
       "array([-0.43555971, -0.43544619, -0.43524478, -0.43523265, -0.43523159,\n",
       "       -0.4352227 , -0.43521826, -0.43520982, -0.43520081, -0.43519803,\n",
       "       -0.43519617, -0.43518751, -0.43518222, -0.43516288, -0.4351507 ,\n",
       "       -0.43513838, -0.4351228 , -0.43508028, -0.4350748 , -0.43507026,\n",
       "       -0.43506543, -0.4350645 , -0.4350606 , -0.43504819, -0.43504066,\n",
       "       -0.43504031, -0.43502565, -0.43501004, -0.43500109, -0.43499041,\n",
       "       -0.43498678, -0.43496436, -0.43494281, -0.4349417 , -0.43491706,\n",
       "       -0.43491401, -0.43491114, -0.43490695, -0.43490487, -0.43489942,\n",
       "       -0.43489278, -0.43489083, -0.43487539, -0.43487457, -0.43486331,\n",
       "       -0.43486231, -0.43485491, -0.43485005, -0.43484917, -0.4348445 ,\n",
       "       -0.434841  , -0.4348316 , -0.43482856, -0.43481557, -0.43480323,\n",
       "       -0.43480179, -0.43478181, -0.43477728, -0.43477714, -0.43477272,\n",
       "       -0.43476144, -0.43475415, -0.434734  , -0.43472016, -0.43471971,\n",
       "       -0.43471822, -0.4347104 , -0.43470643, -0.434696  , -0.43466468,\n",
       "       -0.43466182, -0.43463474, -0.43462129, -0.43461908, -0.43460889,\n",
       "       -0.43458981, -0.43458216, -0.43457883, -0.4345468 , -0.43453468,\n",
       "       -0.43453069, -0.43450488, -0.43446875, -0.43445619, -0.43442877,\n",
       "       -0.4343827 , -0.43437686, -0.43437484, -0.43437405, -0.43436875,\n",
       "       -0.43436089, -0.43435251, -0.43434636, -0.43432972, -0.43432631,\n",
       "       -0.43431796, -0.43429977, -0.43429029, -0.43428763, -0.43428523,\n",
       "       -0.43428474, -0.43428422, -0.4342835 , -0.43428241, -0.43427772,\n",
       "       -0.43427092, -0.43426686, -0.4342653 , -0.43425898, -0.434258  ,\n",
       "       -0.43425683, -0.43425343, -0.43424848, -0.43424779, -0.43424488,\n",
       "       -0.43424157, -0.43423954, -0.43423905, -0.43423758, -0.4342365 ,\n",
       "       -0.43422934, -0.43421632, -0.43418456, -0.43418063, -0.4341785 ,\n",
       "       -0.43417748, -0.43415668, -0.43415631, -0.43413768, -0.43411187,\n",
       "       -0.4341083 , -0.43403475, -0.43403202, -0.43402445, -0.43400853,\n",
       "       -0.43400341, -0.43397791, -0.43396943, -0.43396716, -0.43395159,\n",
       "       -0.43393982, -0.4339082 , -0.43386545, -0.43385748, -0.43385353,\n",
       "       -0.43384727, -0.43383984, -0.4338372 , -0.43379565, -0.43377626,\n",
       "       -0.43377133, -0.43376898, -0.4337536 , -0.43372507, -0.43371963,\n",
       "       -0.433717  , -0.43371523, -0.43369062, -0.43366868, -0.43364032,\n",
       "       -0.43362919, -0.43361462, -0.43359147, -0.43357026, -0.43356902,\n",
       "       -0.43356662, -0.43355002, -0.43349758, -0.43332198, -0.43327761,\n",
       "       -0.43323965, -0.43323024, -0.43319037, -0.43306622, -0.4329441 ])"
      ]
     },
     "execution_count": 66,
     "metadata": {},
     "output_type": "execute_result"
    }
   ],
   "source": [
    "np.sort(ens_ann)"
   ]
  },
  {
   "cell_type": "code",
   "execution_count": 60,
   "metadata": {},
   "outputs": [
    {
     "data": {
      "text/plain": [
       "array([  1.45021845e+09,   1.73085254e+09,   3.81459049e+08,\n",
       "         1.37344481e+09,   8.35330664e+08,   2.09588405e+09,\n",
       "         1.47196493e+09,   1.90112441e+09,   4.65317122e+08,\n",
       "         6.61003726e+08,   1.00655178e+09,   8.07458244e+08,\n",
       "         1.43952397e+09,   1.03173377e+09,   1.47889498e+09,\n",
       "         1.93428832e+09,   1.64564583e+09,   1.44499851e+09,\n",
       "         1.61004091e+09,   1.98753278e+08,   1.44181516e+09,\n",
       "         1.52346386e+09,   1.95254618e+09,   1.00376966e+09,\n",
       "         1.29948493e+09,   1.92425502e+09,   1.18197846e+09,\n",
       "         9.57871083e+08,   8.12566335e+08,   1.15977911e+09,\n",
       "         1.71432835e+09,   6.71586090e+08,   1.71655968e+09,\n",
       "         1.21118344e+09,   2.00133176e+08,   5.98878248e+08,\n",
       "         4.44008433e+08,   1.57327147e+09,   1.76679037e+09,\n",
       "         1.62748697e+09,   7.85781541e+08,   9.18831149e+08,\n",
       "         1.77752592e+09,   1.85070898e+09,   2.00200720e+09,\n",
       "         1.16192122e+09,   1.16810681e+09,   1.64411763e+09,\n",
       "         1.60329970e+09,   2.67713661e+08,   1.03220596e+09,\n",
       "         1.33678643e+09,   1.31692922e+09,   8.99163979e+08,\n",
       "         2.59139101e+08,   4.99362521e+08,   1.65813624e+09,\n",
       "         1.68403411e+09,   1.52895770e+09,   6.29965772e+08,\n",
       "         4.80623387e+08,   1.19344452e+09,   1.71242926e+09,\n",
       "         1.48867953e+09,   1.66386149e+09,   1.72591386e+09,\n",
       "         1.35976299e+09,   1.18227754e+09,   6.59984035e+08,\n",
       "         8.92242897e+08,   2.90755478e+08,   1.81818412e+09,\n",
       "         1.11545091e+09,   1.05247035e+09,   1.81349794e+09,\n",
       "         4.33735001e+08,   8.75990820e+07,   2.01964412e+09,\n",
       "         1.90414079e+09,   8.05380355e+08,   1.06005883e+09,\n",
       "         1.55719842e+09,   5.57780209e+08,   1.01535464e+09,\n",
       "         8.22373299e+08,   8.51026628e+08,   4.80260560e+08,\n",
       "         1.74656940e+09,   1.42941546e+09,   4.24195778e+08,\n",
       "         8.44543745e+08,   8.40249652e+08,   1.88834744e+09,\n",
       "         1.84879198e+09,   1.09162231e+09,   2.38875689e+08,\n",
       "         1.23837646e+09,   1.16300867e+09,   7.66827426e+08,\n",
       "         1.35968908e+09,   8.52248858e+08,   1.32343457e+09,\n",
       "         1.52385018e+09,   1.91157005e+09,   1.76920350e+09,\n",
       "         3.06583663e+08,   5.32408537e+08,   1.90743167e+09,\n",
       "         5.52107040e+07,   1.71013869e+09,   1.91001395e+09,\n",
       "         1.15663499e+09,   8.96189945e+08,   1.27971904e+09,\n",
       "         1.25496625e+09,   1.13968560e+08,   6.52716211e+08,\n",
       "         1.12862981e+09])"
      ]
     },
     "execution_count": 60,
     "metadata": {},
     "output_type": "execute_result"
    }
   ],
   "source": [
    "seeds_ann"
   ]
  },
  {
   "cell_type": "code",
   "execution_count": null,
   "metadata": {},
   "outputs": [],
   "source": []
  }
 ],
 "metadata": {
  "kernelspec": {
   "display_name": "Python 3",
   "language": "python",
   "name": "python3"
  },
  "language_info": {
   "codemirror_mode": {
    "name": "ipython",
    "version": 3
   },
   "file_extension": ".py",
   "mimetype": "text/x-python",
   "name": "python",
   "nbconvert_exporter": "python",
   "pygments_lexer": "ipython3",
   "version": "3.6.4"
  }
 },
 "nbformat": 4,
 "nbformat_minor": 2
}
