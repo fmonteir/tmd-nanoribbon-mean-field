{
 "cells": [
  {
   "cell_type": "markdown",
   "metadata": {},
   "source": [
    "# Self-consistent mean field solution in real space"
   ]
  },
  {
   "cell_type": "code",
   "execution_count": 1,
   "metadata": {},
   "outputs": [],
   "source": [
    "import sys\n",
    "project_directory = '/Users/franciscobrito/projects/'\n",
    "sys.path.append(project_directory + 'tmd-nanoribbon/mean-field/src/lib')\n",
    "from lib.lib_tmd_model import setParams, HribbonRealSpace\n",
    "from lib.lib_solvers import solve_self_consistent_real_space\n",
    "from lib.lib_init_cond import *\n",
    "from lib.lib_plot import showLattice, showGrandpotentialMinimization"
   ]
  },
  {
   "cell_type": "markdown",
   "metadata": {},
   "source": [
    "## Set the desired parameters\n",
    "\n",
    "Nx : Number of atoms along the longitudinal direction\n",
    "\n",
    "Ny : Number of atoms along the transverse direction\n",
    "\n",
    "nHole : Density of holes (to study a hole-doped system)\n",
    "\n",
    "invTemp : Inverse temperature (if we set it very high, we get T = 0)\n",
    "\n",
    "betaStart : Inverse temperature at which the annealing starts\n",
    "\n",
    "betaSpeed : This parameter (> 1) regulates the speed of the annealing\n",
    "\n",
    "betaThreshold : The point at which annealing stops (and after which we jump to the desired temperature - maybe zero!)\n",
    "\n",
    "anneal_or_not : Turn annealing on or off\n",
    "\n",
    "t : Hopping normalization (defines the units in which energies are measured, for TMDs by default - if t = 1 - it's t0)\n",
    "\n",
    "U : On-site interaction\n",
    "\n",
    "itMax : Maximum allowed number of iterations\n",
    "\n",
    "dyn : 'kick' (random small deviation), 'local' (local update), 'mixed' (both), 'wait' (both, waiting for a while)\n",
    "\n",
    "singleExcitationFreq : How often to shake up the Markovian dynamics\n",
    "\n",
    "osc : Oscillations in the annealing scheme\n",
    "\n",
    "dampFreq : Frequency of the damping\n",
    "\n",
    "tmd : choose the TMD (MoS2, WS2, MoSe2, WSe2, MoTe2, WTe2)\n",
    "\n",
    "K: Hopping matrix\n",
    "\n",
    "delta : Tolerance for updated densities convergence\n",
    "\n",
    "nUp, nDown = ferro(...) : Initial condition"
   ]
  },
  {
   "cell_type": "code",
   "execution_count": 52,
   "metadata": {},
   "outputs": [],
   "source": [
    "# Number of orbitals in the model\n",
    "nOrb = 3\n",
    "\n",
    "# Dimensions of the ribbon\n",
    "Nx = 8\n",
    "\n",
    "Ny = 4\n",
    "\n",
    "# Model parameters\n",
    "t = 1\n",
    "U = 20\n",
    "\n",
    "# Choose TMD\n",
    "tmd = 'MoS2'\n",
    "abs_t0, e1, e2, t0, t1, t2, t11, t12, t22, \\\n",
    "E0, E1, E2, E3, E4, E5, E6 = setParams(tmd)\n",
    "K = HribbonRealSpace(nOrb, Nx, Ny, E0, E1, E2, E3, E4, E5, E6)\n",
    "\n",
    "# For a hole-doped system (0 means no holes)\n",
    "nHole = 0\n",
    "\n",
    "# Self-explanatory\n",
    "anneal_or_not = True\n",
    "osc = False\n",
    "\n",
    "# Inverse temperature and annealing parameters\n",
    "invTemp = 1\n",
    "betaStart = 0.2\n",
    "betaSpeed = 1.12\n",
    "betaThreshold = 20\n",
    "\n",
    "# Solver parameters\n",
    "itMax = 60\n",
    "dampFreq = 1\n",
    "delta = 1e-5\n",
    "singleExcitationFreq = itMax + 1\n",
    "dyn = 'mixed'\n",
    "\n",
    "# Initial conditions\n",
    "seed = 1\n",
    "nUp, nDown = random(2 / 3, nOrb * Nx * Ny, seed)"
   ]
  },
  {
   "cell_type": "markdown",
   "metadata": {},
   "source": [
    "# Show initial condition"
   ]
  },
  {
   "cell_type": "code",
   "execution_count": 53,
   "metadata": {},
   "outputs": [
    {
     "name": "stdout",
     "output_type": "stream",
     "text": [
      "This is the initial condition you chose:\n"
     ]
    },
    {
     "data": {
      "image/png": "[encoded data removed]",
      "text/plain": [
       "<matplotlib.figure.Figure at 0x1157f3198>"
      ]
     },
     "metadata": {},
     "output_type": "display_data"
    }
   ],
   "source": [
    "print(\"This is the initial condition you chose:\")\n",
    "dotscale = 100\n",
    "SAVE = False\n",
    "name = 'initCond_ferroU' + str(U) + 'Nx' + str(Nx) + 'Ny' + str(Ny)\n",
    "showLattice(nUp, nDown, Nx, Ny, nOrb, dotscale, SAVE, name)"
   ]
  },
  {
   "cell_type": "markdown",
   "metadata": {},
   "source": [
    "# Iterative mean field solution"
   ]
  },
  {
   "cell_type": "code",
   "execution_count": 54,
   "metadata": {},
   "outputs": [
    {
     "name": "stdout",
     "output_type": "stream",
     "text": [
      "Started annealing.\n",
      "\n",
      "Inverse temperature:  0.19999999999999996\n",
      "\n",
      "iteration:  0\n",
      "deltaUp:  0.138576862403\n",
      "deltaDown:  0.147042894039 \n",
      "\n",
      "Inverse temperature:  0.32000000000000006\n",
      "Inverse temperature:  0.45440000000000014\n",
      "Inverse temperature:  0.6049280000000004\n",
      "Inverse temperature:  0.7735193600000005\n",
      "Inverse temperature:  0.9623416832000007\n",
      "Inverse temperature:  1.173822685184001\n",
      "\n",
      "Finished annealing.\n",
      "\n",
      "\n",
      "iteration:  10\n",
      "deltaUp:  0.000203241119773\n",
      "deltaDown:  0.00016392108064 \n",
      "\n",
      "\n",
      "iteration:  20\n",
      "deltaUp:  9.60070515915e-05\n",
      "deltaDown:  6.25378342978e-05 \n",
      "\n",
      "\n",
      "iteration:  30\n",
      "deltaUp:  2.8027176412e-05\n",
      "deltaDown:  2.49580989142e-05 \n",
      "\n",
      "\n",
      "iteration:  40\n",
      "deltaUp:  5.45924502044e-05\n",
      "deltaDown:  3.59633072273e-05 \n",
      "\n",
      "\n",
      "iteration:  50\n",
      "deltaUp:  1.83509339618e-05\n",
      "deltaDown:  1.13913844242e-05 \n",
      "\n",
      "\n",
      "Total number of iterations:  54 \n",
      "\n",
      "CPU times: user 488 ms, sys: 33.1 ms, total: 521 ms\n",
      "Wall time: 499 ms\n"
     ]
    }
   ],
   "source": [
    "%%time\n",
    "\n",
    "nUp, nDown, energies,\\\n",
    "lastGrandpotential, itSwitch, lastIt, mu,\\\n",
    "eUp, eDown, wfUp, wfDown\\\n",
    "= solve_self_consistent_real_space(Nx, Ny, nOrb, nHole, invTemp, betaStart, betaSpeed, betaThreshold,\\\n",
    "anneal_or_not, t, U, itMax, dampFreq, dyn, singleExcitationFreq, osc,\\\n",
    "K, abs_t0, delta, nUp, nDown)"
   ]
  },
  {
   "cell_type": "markdown",
   "metadata": {},
   "source": [
    "# Show solution"
   ]
  },
  {
   "cell_type": "code",
   "execution_count": 55,
   "metadata": {},
   "outputs": [
    {
     "data": {
      "image/png": "[encoded data removed]",
      "text/plain": [
       "<matplotlib.figure.Figure at 0x115778588>"
      ]
     },
     "metadata": {},
     "output_type": "display_data"
    }
   ],
   "source": [
    "dotscale = 1000\n",
    "SAVE = False\n",
    "name = 'solution_ferroU' + str(U) + 'Nx' + str(Nx) + 'Ny' + str(Ny)\n",
    "showLattice(nUp, nDown, Nx, Ny, nOrb, dotscale, SAVE, name)"
   ]
  },
  {
   "cell_type": "markdown",
   "metadata": {},
   "source": [
    "# Show minimization of grandpotential functional"
   ]
  },
  {
   "cell_type": "code",
   "execution_count": 56,
   "metadata": {},
   "outputs": [
    {
     "name": "stdout",
     "output_type": "stream",
     "text": [
      "The final value of the grandpotential per site was:  0.322062856579\n"
     ]
    },
    {
     "data": {
      "image/png": "[encoded data removed]",
      "text/plain": [
       "<matplotlib.figure.Figure at 0x1157f3dd8>"
      ]
     },
     "metadata": {},
     "output_type": "display_data"
    }
   ],
   "source": [
    "showGrandpotentialMinimization(itSwitch, lastIt, energies)\n",
    "print(\"The final value of the grandpotential per site was: \", lastGrandpotential)"
   ]
  },
  {
   "cell_type": "code",
   "execution_count": null,
   "metadata": {},
   "outputs": [],
   "source": []
  },
  {
   "cell_type": "code",
   "execution_count": null,
   "metadata": {},
   "outputs": [],
   "source": []
  }
 ],
 "metadata": {
  "kernelspec": {
   "display_name": "Python 3",
   "language": "python",
   "name": "python3"
  },
  "language_info": {
   "codemirror_mode": {
    "name": "ipython",
    "version": 3
   },
   "file_extension": ".py",
   "mimetype": "text/x-python",
   "name": "python",
   "nbconvert_exporter": "python",
   "pygments_lexer": "ipython3",
   "version": "3.6.4"
  }
 },
 "nbformat": 4,
 "nbformat_minor": 2
}
