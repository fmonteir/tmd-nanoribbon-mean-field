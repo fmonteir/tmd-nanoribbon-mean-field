{
 "cells": [
  {
   "cell_type": "markdown",
   "metadata": {},
   "source": [
    "# Self-consistent mean field solution in real space"
   ]
  },
  {
   "cell_type": "code",
   "execution_count": 1,
   "metadata": {},
   "outputs": [],
   "source": [
    "import sys\n",
    "project_directory = '/Users/franciscobrito/projects/'\n",
    "sys.path.append(project_directory + 'tmd-nanoribbon/mean-field/src/lib')\n",
    "from lib.lib_tmd_model import setParams, HribbonRealSpace\n",
    "from lib.lib_solvers import solve_self_consistent_real_space\n",
    "from lib.lib_init_cond import *\n",
    "from lib.lib_plot import showLattice, showGrandpotentialMinimization"
   ]
  },
  {
   "cell_type": "code",
   "execution_count": 21,
   "metadata": {},
   "outputs": [],
   "source": [
    "# Number of orbitals in the model\n",
    "nOrb = 3\n",
    "\n",
    "# Dimensions of the ribbon\n",
    "Nx = 8\n",
    "Ny = 4\n",
    "\n",
    "# Model parameters\n",
    "t = 1\n",
    "U = 20\n",
    "\n",
    "# Choose TMD\n",
    "tmd = 'MoS2'\n",
    "abs_t0, e1, e2, t0, t1, t2, t11, t12, t22, \\\n",
    "E0, E1, E2, E3, E4, E5, E6 = setParams(tmd)\n",
    "K = HribbonRealSpace(nOrb, Nx, Ny, E0, E1, E2, E3, E4, E5, E6)\n",
    "\n",
    "# For a hole-doped system (0 means no holes)\n",
    "nHole = 0\n",
    "\n",
    "# Self-explanatory\n",
    "anneal_or_not = True\n",
    "osc = False\n",
    "\n",
    "# Inverse temperature and annealing parameters\n",
    "invTemp = 1\n",
    "betaStart = 0.2\n",
    "betaSpeed = 1.12\n",
    "betaThreshold = 20\n",
    "\n",
    "# Solver parameters\n",
    "itMax = 100\n",
    "dampFreq = 1\n",
    "delta = 1e-20\n",
    "singleExcitationFreq = itMax + 1\n",
    "dyn = 'local'\n",
    "\n",
    "# Initial conditions\n",
    "nUp, nDown = row_antiferro(2 / 3, nOrb * Nx * Ny, Nx, nOrb)"
   ]
  },
  {
   "cell_type": "markdown",
   "metadata": {},
   "source": [
    "# Show initial condition"
   ]
  },
  {
   "cell_type": "code",
   "execution_count": 22,
   "metadata": {},
   "outputs": [
    {
     "name": "stdout",
     "output_type": "stream",
     "text": [
      "This is the initial condition you chose:\n"
     ]
    },
    {
     "data": {
      "image/png": "[encoded data removed]",
      "text/plain": [
       "<matplotlib.figure.Figure at 0x11542bf98>"
      ]
     },
     "metadata": {},
     "output_type": "display_data"
    }
   ],
   "source": [
    "print(\"This is the initial condition you chose:\")\n",
    "dotscale = 100\n",
    "SAVE = False\n",
    "name = 'initCond_antiferroU' + str(U) + 'Nx' + str(Nx) + 'Ny' + str(Ny)\n",
    "showLattice(nUp, nDown, Nx, Ny, nOrb, dotscale, SAVE, name)"
   ]
  },
  {
   "cell_type": "markdown",
   "metadata": {},
   "source": [
    "# Iterative mean field solution"
   ]
  },
  {
   "cell_type": "code",
   "execution_count": 23,
   "metadata": {},
   "outputs": [
    {
     "name": "stdout",
     "output_type": "stream",
     "text": [
      "Started annealing.\n",
      "\n",
      "Inverse temperature:  0.19999999999999996\n",
      "\n",
      "iteration:  0\n",
      "deltaUp:  0.0403705230852\n",
      "deltaDown:  0.0403705230852 \n",
      "\n",
      "Inverse temperature:  0.32000000000000006\n",
      "Inverse temperature:  0.45440000000000014\n",
      "Inverse temperature:  0.6049280000000004\n",
      "Inverse temperature:  0.7735193600000005\n",
      "Inverse temperature:  0.9623416832000007\n",
      "Inverse temperature:  1.173822685184001\n",
      "\n",
      "Finished annealing.\n",
      "\n",
      "\n",
      "iteration:  10\n",
      "deltaUp:  0.000238781527382\n",
      "deltaDown:  0.000238781527382 \n",
      "\n",
      "\n",
      "iteration:  20\n",
      "deltaUp:  3.14553167637e-06\n",
      "deltaDown:  3.14553167637e-06 \n",
      "\n",
      "\n",
      "iteration:  30\n",
      "deltaUp:  6.15268799543e-08\n",
      "deltaDown:  6.15268799544e-08 \n",
      "\n",
      "\n",
      "iteration:  40\n",
      "deltaUp:  1.05214227367e-09\n",
      "deltaDown:  1.05214227367e-09 \n",
      "\n",
      "\n",
      "iteration:  50\n",
      "deltaUp:  1.69890322265e-11\n",
      "deltaDown:  1.69890322247e-11 \n",
      "\n",
      "\n",
      "iteration:  60\n",
      "deltaUp:  3.62389316851e-13\n",
      "deltaDown:  3.62389316621e-13 \n",
      "\n",
      "\n",
      "iteration:  70\n",
      "deltaUp:  1.04698433398e-14\n",
      "deltaDown:  1.04698433539e-14 \n",
      "\n",
      "\n",
      "iteration:  80\n",
      "deltaUp:  3.00640594852e-16\n",
      "deltaDown:  3.0064059034e-16 \n",
      "\n",
      "\n",
      "iteration:  90\n",
      "deltaUp:  7.32678753209e-18\n",
      "deltaDown:  7.32678426411e-18 \n",
      "\n",
      "\n",
      "Total number of iterations:  100 \n",
      "\n",
      "CPU times: user 1.08 s, sys: 74 ms, total: 1.16 s\n",
      "Wall time: 1.11 s\n"
     ]
    }
   ],
   "source": [
    "%%time\n",
    "\n",
    "nUp, nDown, energies,\\\n",
    "lastGrandpotential, itSwitch, lastIt, mu,\\\n",
    "eUp, eDown, wfUp, wfDown\\\n",
    "= solve_self_consistent_real_space(Nx, Ny, nOrb, nHole, invTemp, betaStart, betaSpeed, betaThreshold,\\\n",
    "anneal_or_not, t, U, itMax, dampFreq, dyn, singleExcitationFreq, osc,\\\n",
    "K, abs_t0, delta, nUp, nDown)"
   ]
  },
  {
   "cell_type": "markdown",
   "metadata": {},
   "source": [
    "# Show solution"
   ]
  },
  {
   "cell_type": "code",
   "execution_count": 24,
   "metadata": {},
   "outputs": [
    {
     "data": {
      "image/png": "[encoded data removed]",
      "text/plain": [
       "<matplotlib.figure.Figure at 0x11542b2e8>"
      ]
     },
     "metadata": {},
     "output_type": "display_data"
    }
   ],
   "source": [
    "dotscale = 100\n",
    "SAVE = False\n",
    "name = 'solution_antiferroU' + str(U) + 'Nx' + str(Nx) + 'Ny' + str(Ny)\n",
    "showLattice(nUp, nDown, Nx, Ny, nOrb, dotscale, SAVE, name)\n"
   ]
  },
  {
   "cell_type": "markdown",
   "metadata": {},
   "source": [
    "# Show minimization of grandpotential functional"
   ]
  },
  {
   "cell_type": "code",
   "execution_count": 25,
   "metadata": {},
   "outputs": [
    {
     "name": "stdout",
     "output_type": "stream",
     "text": [
      "The final value of the grandpotential per site was:  0.324347095051\n"
     ]
    },
    {
     "data": {
      "image/png": "[encoded data removed]",
      "text/plain": [
       "<matplotlib.figure.Figure at 0x11543e048>"
      ]
     },
     "metadata": {},
     "output_type": "display_data"
    }
   ],
   "source": [
    "showGrandpotentialMinimization(itSwitch, lastIt, energies)\n",
    "print(\"The final value of the grandpotential per site was: \", lastGrandpotential)"
   ]
  },
  {
   "cell_type": "code",
   "execution_count": null,
   "metadata": {},
   "outputs": [],
   "source": []
  },
  {
   "cell_type": "code",
   "execution_count": null,
   "metadata": {},
   "outputs": [],
   "source": []
  }
 ],
 "metadata": {
  "kernelspec": {
   "display_name": "Python 3",
   "language": "python",
   "name": "python3"
  },
  "language_info": {
   "codemirror_mode": {
    "name": "ipython",
    "version": 3
   },
   "file_extension": ".py",
   "mimetype": "text/x-python",
   "name": "python",
   "nbconvert_exporter": "python",
   "pygments_lexer": "ipython3",
   "version": "3.6.4"
  }
 },
 "nbformat": 4,
 "nbformat_minor": 2
}
