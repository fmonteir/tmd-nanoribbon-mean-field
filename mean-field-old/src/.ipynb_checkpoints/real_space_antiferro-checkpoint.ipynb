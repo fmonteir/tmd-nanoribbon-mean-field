{
 "cells": [
  {
   "cell_type": "markdown",
   "metadata": {},
   "source": [
    "# Self-consistent mean field solution in real space"
   ]
  },
  {
   "cell_type": "code",
   "execution_count": 1,
   "metadata": {},
   "outputs": [],
   "source": [
    "import sys\n",
    "project_directory = '/Users/franciscobrito/projects/'\n",
    "sys.path.append(project_directory + 'tmd-nanoribbon/mean-field/src/lib')\n",
    "from lib.lib_tmd_model import setParams, HribbonRealSpace\n",
    "from lib.lib_solvers import solve_self_consistent_real_space\n",
    "from lib.lib_init_cond import *\n",
    "from lib.lib_plot import showLattice, showGrandpotentialMinimization"
   ]
  },
  {
   "cell_type": "code",
   "execution_count": 16,
   "metadata": {},
   "outputs": [],
   "source": [
    "# Number of orbitals in the model\n",
    "nOrb = 3\n",
    "\n",
    "# Dimensions of the ribbon\n",
    "Nx = 8\n",
    "Ny = 4\n",
    "\n",
    "# Model parameters\n",
    "t = 1\n",
    "U = 20\n",
    "\n",
    "# Choose TMD\n",
    "tmd = 'MoS2'\n",
    "abs_t0, e1, e2, t0, t1, t2, t11, t12, t22, \\\n",
    "E0, E1, E2, E3, E4, E5, E6 = setParams(tmd)\n",
    "K = HribbonRealSpace(nOrb, Nx, Ny, E0, E1, E2, E3, E4, E5, E6)\n",
    "\n",
    "# For a hole-doped system (0 means no holes)\n",
    "nHole = 0\n",
    "\n",
    "# Self-explanatory\n",
    "anneal_or_not = True\n",
    "osc = False\n",
    "\n",
    "# Inverse temperature and annealing parameters\n",
    "invTemp = 1\n",
    "betaStart = 0.2\n",
    "betaSpeed = 1.12\n",
    "betaThreshold = 20\n",
    "\n",
    "# Solver parameters\n",
    "itMax = 100\n",
    "dampFreq = 1\n",
    "delta = 1e-20\n",
    "singleExcitationFreq = itMax + 1\n",
    "dyn = 'local'\n",
    "\n",
    "# Initial conditions\n",
    "nUp, nDown = row_antiferro(2 / 3, nOrb * Nx * Ny, Nx, nOrb)"
   ]
  },
  {
   "cell_type": "markdown",
   "metadata": {},
   "source": [
    "# Show initial condition"
   ]
  },
  {
   "cell_type": "code",
   "execution_count": 17,
   "metadata": {},
   "outputs": [
    {
     "name": "stdout",
     "output_type": "stream",
     "text": [
      "This is the initial condition you chose:\n"
     ]
    },
    {
     "data": {
      "image/png": "[encoded data removed]",
      "text/plain": [
       "<matplotlib.figure.Figure at 0x11545aeb8>"
      ]
     },
     "metadata": {},
     "output_type": "display_data"
    }
   ],
   "source": [
    "print(\"This is the initial condition you chose:\")\n",
    "dotscale = 100\n",
    "SAVE = False\n",
    "name = 'initCond_antiferroU' + str(U) + 'Nx' + str(Nx) + 'Ny' + str(Ny)\n",
    "showLattice(nUp, nDown, Nx, Ny, nOrb, dotscale, SAVE, name)"
   ]
  },
  {
   "cell_type": "markdown",
   "metadata": {},
   "source": [
    "# Iterative mean field solution"
   ]
  },
  {
   "cell_type": "code",
   "execution_count": 18,
   "metadata": {},
   "outputs": [
    {
     "name": "stdout",
     "output_type": "stream",
     "text": [
      "\n",
      "iteration:  0\n",
      "deltaUp:  0.0442505144793\n",
      "deltaDown:  0.0442505144793 \n",
      "\n",
      "\n",
      "iteration:  10\n",
      "deltaUp:  0.00023095907045\n",
      "deltaDown:  0.00023095907045 \n",
      "\n",
      "\n",
      "iteration:  20\n",
      "deltaUp:  3.79235387073e-06\n",
      "deltaDown:  3.79235387073e-06 \n",
      "\n",
      "\n",
      "iteration:  30\n",
      "deltaUp:  1.02770413388e-07\n",
      "deltaDown:  1.02770413388e-07 \n",
      "\n",
      "\n",
      "iteration:  40\n",
      "deltaUp:  3.58801083885e-09\n",
      "deltaDown:  3.58801083884e-09 \n",
      "\n",
      "\n",
      "iteration:  50\n",
      "deltaUp:  1.55534965414e-10\n",
      "deltaDown:  1.55534965414e-10 \n",
      "\n",
      "\n",
      "iteration:  60\n",
      "deltaUp:  6.67970049107e-12\n",
      "deltaDown:  6.67970049111e-12 \n",
      "\n",
      "\n",
      "iteration:  70\n",
      "deltaUp:  2.46166795759e-13\n",
      "deltaDown:  2.46166795514e-13 \n",
      "\n",
      "\n",
      "iteration:  80\n",
      "deltaUp:  7.45396866102e-15\n",
      "deltaDown:  7.45396873078e-15 \n",
      "\n",
      "\n",
      "iteration:  90\n",
      "deltaUp:  1.83510833991e-16\n",
      "deltaDown:  1.83510830785e-16 \n",
      "\n",
      "\n",
      "Total number of iterations:  100 \n",
      "\n",
      "CPU times: user 999 ms, sys: 61.1 ms, total: 1.06 s\n",
      "Wall time: 1.01 s\n"
     ]
    }
   ],
   "source": [
    "%%time\n",
    "\n",
    "nUp, nDown, energies,\\\n",
    "lastGrandpotential, itSwitch, lastIt, mu,\\\n",
    "eUp, eDown, wfUp, wfDown\\\n",
    "= solve_self_consistent_real_space(Nx, Ny, nOrb, nHole, invTemp, betaStart, betaSpeed, betaThreshold,\\\n",
    "anneal_or_not, t, U, itMax, dampFreq, dyn, singleExcitationFreq, osc,\\\n",
    "K, abs_t0, delta, nUp, nDown)"
   ]
  },
  {
   "cell_type": "markdown",
   "metadata": {},
   "source": [
    "# Show solution"
   ]
  },
  {
   "cell_type": "code",
   "execution_count": 19,
   "metadata": {},
   "outputs": [
    {
     "data": {
      "image/png": "[encoded data removed]",
      "text/plain": [
       "<matplotlib.figure.Figure at 0x1153746d8>"
      ]
     },
     "metadata": {},
     "output_type": "display_data"
    }
   ],
   "source": [
    "dotscale = 100\n",
    "SAVE = False\n",
    "name = 'solution_antiferroU' + str(U) + 'Nx' + str(Nx) + 'Ny' + str(Ny)\n",
    "showLattice(nUp, nDown, Nx, Ny, nOrb, dotscale, SAVE, name)\n"
   ]
  },
  {
   "cell_type": "markdown",
   "metadata": {},
   "source": [
    "# Show minimization of grandpotential functional"
   ]
  },
  {
   "cell_type": "code",
   "execution_count": 20,
   "metadata": {},
   "outputs": [
    {
     "name": "stdout",
     "output_type": "stream",
     "text": [
      "The final value of the grandpotential per site was:  0.324347095051\n"
     ]
    },
    {
     "data": {
      "image/png": "[encoded data removed]",
      "text/plain": [
       "<matplotlib.figure.Figure at 0x11421e978>"
      ]
     },
     "metadata": {},
     "output_type": "display_data"
    }
   ],
   "source": [
    "showGrandpotentialMinimization(itSwitch, lastIt, energies)\n",
    "print(\"The final value of the grandpotential per site was: \", lastGrandpotential)"
   ]
  },
  {
   "cell_type": "code",
   "execution_count": null,
   "metadata": {},
   "outputs": [],
   "source": []
  },
  {
   "cell_type": "code",
   "execution_count": null,
   "metadata": {},
   "outputs": [],
   "source": []
  }
 ],
 "metadata": {
  "kernelspec": {
   "display_name": "Python 3",
   "language": "python",
   "name": "python3"
  },
  "language_info": {
   "codemirror_mode": {
    "name": "ipython",
    "version": 3
   },
   "file_extension": ".py",
   "mimetype": "text/x-python",
   "name": "python",
   "nbconvert_exporter": "python",
   "pygments_lexer": "ipython3",
   "version": "3.6.4"
  }
 },
 "nbformat": 4,
 "nbformat_minor": 2
}
