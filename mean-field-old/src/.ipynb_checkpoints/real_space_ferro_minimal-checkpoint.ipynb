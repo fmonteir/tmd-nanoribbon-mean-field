{
 "cells": [
  {
   "cell_type": "markdown",
   "metadata": {},
   "source": [
    "# Self-consistent mean field solution in real space"
   ]
  },
  {
   "cell_type": "code",
   "execution_count": 1,
   "metadata": {},
   "outputs": [],
   "source": [
    "import sys\n",
    "project_directory = '/Users/franciscobrito/projects/'\n",
    "sys.path.append(project_directory + 'tmd-nanoribbon/mean-field/src/lib')\n",
    "from lib.lib_tmd_model import setParams, HribbonRealSpace\n",
    "from lib.lib_solvers import solve_self_consistent_real_space\n",
    "from lib.lib_init_cond import *\n",
    "from lib.lib_plot import showLattice, showGrandpotentialMinimization"
   ]
  },
  {
   "cell_type": "markdown",
   "metadata": {},
   "source": [
    "## Set the desired parameters\n",
    "\n",
    "Nx : Number of atoms along the longitudinal direction\n",
    "\n",
    "Ny : Number of atoms along the transverse direction\n",
    "\n",
    "nHole : Density of holes (to study a hole-doped system)\n",
    "\n",
    "invTemp : Inverse temperature (if we set it very high, we get T = 0)\n",
    "\n",
    "betaStart : Inverse temperature at which the annealing starts\n",
    "\n",
    "betaSpeed : This parameter (> 1) regulates the speed of the annealing\n",
    "\n",
    "betaThreshold : The point at which annealing stops (and after which we jump to the desired temperature - maybe zero!)\n",
    "\n",
    "anneal_or_not : Turn annealing on or off\n",
    "\n",
    "t : Hopping normalization (defines the units in which energies are measured, for TMDs by default - if t = 1 - it's t0)\n",
    "\n",
    "U : On-site interaction\n",
    "\n",
    "itMax : Maximum allowed number of iterations\n",
    "\n",
    "dyn : 'kick' (random small deviation), 'local' (local update), 'mixed' (both), 'wait' (both, waiting for a while)\n",
    "\n",
    "singleExcitationFreq : How often to shake up the Markovian dynamics\n",
    "\n",
    "osc : Oscillations in the annealing scheme\n",
    "\n",
    "dampFreq : Frequency of the damping\n",
    "\n",
    "tmd : choose the TMD (MoS2, WS2, MoSe2, WSe2, MoTe2, WTe2)\n",
    "\n",
    "K: Hopping matrix\n",
    "\n",
    "delta : Tolerance for updated densities convergence\n",
    "\n",
    "nUp, nDown = ferro(...) : Initial condition"
   ]
  },
  {
   "cell_type": "code",
   "execution_count": 47,
   "metadata": {},
   "outputs": [],
   "source": [
    "# Number of orbitals in the model\n",
    "nOrb = 3\n",
    "\n",
    "# Dimensions of the ribbon\n",
    "Nx = 8\n",
    "\n",
    "Ny = 4\n",
    "\n",
    "# Model parameters\n",
    "t = 1\n",
    "U = 20\n",
    "\n",
    "# Choose TMD\n",
    "tmd = 'MoS2'\n",
    "abs_t0, e1, e2, t0, t1, t2, t11, t12, t22, \\\n",
    "E0, E1, E2, E3, E4, E5, E6 = setParams(tmd)\n",
    "K = HribbonRealSpace(nOrb, Nx, Ny, E0, E1, E2, E3, E4, E5, E6)\n",
    "\n",
    "# For a hole-doped system (0 means no holes)\n",
    "nHole = 0\n",
    "\n",
    "# Self-explanatory\n",
    "anneal_or_not = True\n",
    "osc = False\n",
    "\n",
    "# Inverse temperature and annealing parameters\n",
    "invTemp = 1\n",
    "betaStart = 0.2\n",
    "betaSpeed = 1.12\n",
    "betaThreshold = 20\n",
    "\n",
    "# Solver parameters\n",
    "itMax = 60\n",
    "dampFreq = 1\n",
    "delta = 1e-5\n",
    "singleExcitationFreq = itMax + 1\n",
    "dyn = 'mixed'\n",
    "\n",
    "# Initial conditions\n",
    "seed = 1\n",
    "nUp, nDown = random(2 / 3, nOrb * Nx * Ny, seed)"
   ]
  },
  {
   "cell_type": "markdown",
   "metadata": {},
   "source": [
    "# Show initial condition"
   ]
  },
  {
   "cell_type": "code",
   "execution_count": 48,
   "metadata": {},
   "outputs": [
    {
     "name": "stdout",
     "output_type": "stream",
     "text": [
      "This is the initial condition you chose:\n"
     ]
    },
    {
     "data": {
      "image/png": "[encoded data removed]",
      "text/plain": [
       "<matplotlib.figure.Figure at 0x110627d68>"
      ]
     },
     "metadata": {},
     "output_type": "display_data"
    }
   ],
   "source": [
    "print(\"This is the initial condition you chose:\")\n",
    "dotscale = 100\n",
    "SAVE = False\n",
    "name = 'initCond_ferroU' + str(U) + 'Nx' + str(Nx) + 'Ny' + str(Ny)\n",
    "showLattice(nUp, nDown, Nx, Ny, nOrb, dotscale, SAVE, name)"
   ]
  },
  {
   "cell_type": "markdown",
   "metadata": {},
   "source": [
    "# Iterative mean field solution"
   ]
  },
  {
   "cell_type": "code",
   "execution_count": 49,
   "metadata": {},
   "outputs": [
    {
     "name": "stdout",
     "output_type": "stream",
     "text": [
      "\n",
      "iteration:  0\n",
      "deltaUp:  0.168759786779\n",
      "deltaDown:  0.170607310062 \n",
      "\n",
      "\n",
      "iteration:  10\n",
      "deltaUp:  0.000162205888828\n",
      "deltaDown:  0.000120134161355 \n",
      "\n",
      "\n",
      "iteration:  20\n",
      "deltaUp:  4.98503545082e-05\n",
      "deltaDown:  4.26473337094e-05 \n",
      "\n",
      "\n",
      "iteration:  30\n",
      "deltaUp:  3.75344267182e-05\n",
      "deltaDown:  2.97215897317e-05 \n",
      "\n",
      "\n",
      "iteration:  40\n",
      "deltaUp:  4.83224701708e-05\n",
      "deltaDown:  2.79600123328e-05 \n",
      "\n",
      "\n",
      "iteration:  50\n",
      "deltaUp:  9.81282017004e-06\n",
      "deltaDown:  5.63526486704e-06 \n",
      "\n",
      "\n",
      "Total number of iterations:  51 \n",
      "\n",
      "CPU times: user 479 ms, sys: 31.6 ms, total: 511 ms\n",
      "Wall time: 484 ms\n"
     ]
    }
   ],
   "source": [
    "%%time\n",
    "\n",
    "nUp, nDown, energies,\\\n",
    "lastGrandpotential, itSwitch, lastIt, mu,\\\n",
    "eUp, eDown, wfUp, wfDown\\\n",
    "= solve_self_consistent_real_space(Nx, Ny, nOrb, nHole, invTemp, betaStart, betaSpeed, betaThreshold,\\\n",
    "anneal_or_not, t, U, itMax, dampFreq, dyn, singleExcitationFreq, osc,\\\n",
    "K, abs_t0, delta, nUp, nDown)"
   ]
  },
  {
   "cell_type": "markdown",
   "metadata": {},
   "source": [
    "# Show solution"
   ]
  },
  {
   "cell_type": "code",
   "execution_count": 50,
   "metadata": {},
   "outputs": [
    {
     "data": {
      "image/png": "[encoded data removed]",
      "text/plain": [
       "<matplotlib.figure.Figure at 0x1156064a8>"
      ]
     },
     "metadata": {},
     "output_type": "display_data"
    }
   ],
   "source": [
    "dotscale = 1000\n",
    "SAVE = False\n",
    "name = 'solution_ferroU' + str(U) + 'Nx' + str(Nx) + 'Ny' + str(Ny)\n",
    "showLattice(nUp, nDown, Nx, Ny, nOrb, dotscale, SAVE, name)"
   ]
  },
  {
   "cell_type": "markdown",
   "metadata": {},
   "source": [
    "# Show minimization of grandpotential functional"
   ]
  },
  {
   "cell_type": "code",
   "execution_count": 51,
   "metadata": {},
   "outputs": [
    {
     "name": "stdout",
     "output_type": "stream",
     "text": [
      "The final value of the grandpotential per site was:  0.322028912318\n"
     ]
    },
    {
     "data": {
      "image/png": "[encoded data removed]",
      "text/plain": [
       "<matplotlib.figure.Figure at 0x1150f94a8>"
      ]
     },
     "metadata": {},
     "output_type": "display_data"
    }
   ],
   "source": [
    "showGrandpotentialMinimization(itSwitch, lastIt, energies)\n",
    "print(\"The final value of the grandpotential per site was: \", lastGrandpotential)"
   ]
  },
  {
   "cell_type": "code",
   "execution_count": null,
   "metadata": {},
   "outputs": [],
   "source": []
  },
  {
   "cell_type": "code",
   "execution_count": null,
   "metadata": {},
   "outputs": [],
   "source": []
  }
 ],
 "metadata": {
  "kernelspec": {
   "display_name": "Python 3",
   "language": "python",
   "name": "python3"
  },
  "language_info": {
   "codemirror_mode": {
    "name": "ipython",
    "version": 3
   },
   "file_extension": ".py",
   "mimetype": "text/x-python",
   "name": "python",
   "nbconvert_exporter": "python",
   "pygments_lexer": "ipython3",
   "version": "3.6.4"
  }
 },
 "nbformat": 4,
 "nbformat_minor": 2
}
